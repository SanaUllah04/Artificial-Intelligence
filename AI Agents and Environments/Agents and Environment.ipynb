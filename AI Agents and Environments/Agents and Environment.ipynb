{
 "cells": [
  {
   "cell_type": "markdown",
   "metadata": {
    "id": "6T-OyAKMBVfN"
   },
   "source": [
    "# **Question 1 Part (A)**"
   ]
  },
  {
   "cell_type": "markdown",
   "metadata": {},
   "source": [
    "## 1. Agent Perspective\n",
    "\n",
    "# **A) AI Agent Classification and Implementation**"
   ]
  },
  {
   "cell_type": "markdown",
   "metadata": {
    "id": "OKvETHiXI8Pl"
   },
   "source": [
    "## **Type of Agent**  \r\n",
    "A hybrid agent combining a model-based reflex agent with utility-based decision-making is ideal. This allows the ship to adapt to dynamic maritime environments (via real-time sensor data) while optimizing for safety, efficiency, and regulatory compliance.  \r\n",
    "\r\n",
    "## **Justification**  \r\n",
    "\r\n",
    "### **1. Perception Mechanisms**  \r\n",
    "#### **Environmental Sensors:**  \r\n",
    "- **Wind sensors (anemometers):** Measure wind speed/direction.  \r\n",
    "- **Temperature/humidity sensors:** Monitor weather conditions (e.g., fog, icing risks).  \r\n",
    "- **Wave height sensors:** Assess sea state (critical for stability).  \r\n",
    "\r\n",
    "#### **Positioning/Navigation:**  \r\n",
    "- **GPS:** Provides real-time geolocation.  \r\n",
    "- **AIS (Automatic Identification System):** Tracks nearby vessel locations, speeds, and routes.  \r\n",
    "\r\n",
    "#### **Obstacle Detection:**  \r\n",
    "- **Radar:** Detects surface objects (e.g., ships, buoys).  \r\n",
    "- **Sonar/LIDAR:** Identifies underwater hazards (e.g., icebergs, shallow reefs).  \r\n",
    "- **Cameras/IR sensors:** Visual recognition (e.g., identifying unmarked obstacles, night navigation).  \r\n",
    "\r\n",
    "#### **External Data Integration:**  \r\n",
    "- **Weather APIs:** Provide storm forecasts.  \r\n",
    "- **Maritime traffic APIs:** Update congested lane status.  \r\n",
    "\r\n",
    "---\r\n",
    "\r\n",
    "### **2. Internal Model & Utility Functions**  \r\n",
    "- The agent maintains a **dynamic model** of the environment, including ship position, obstacle trajectories, and weather patterns.  \r\n",
    "- Uses **utility functions** to balance competing goals:  \r\n",
    "  - **Safety:** Minimize collision risk (e.g., via COLREGs compliance).  \r\n",
    "  - **Efficiency:** Optimize fuel\n",
    "  - **Compliance:** Adhere to maritime regulations (e.g., speed limits in congested zones).nsumption and route length.  \r\n",
    "ion and route length.\r\n",
    "ght navigation)."
   ]
  },
  {
   "cell_type": "code",
   "execution_count": 1,
   "metadata": {
    "colab": {
     "base_uri": "https://localhost:8080/"
    },
    "id": "K4xBoCDX0_Rs",
    "outputId": "d9714854-0847-4d93-9c89-985f67a6f2ee"
   },
   "outputs": [
    {
     "name": "stdout",
     "output_type": "stream",
     "text": [
      "Radar: 856.1m, Waves: 5.6m → Action: Reroute\n",
      "Radar: 629.8m, Waves: 3.2m → Action: Maintain\n",
      "Radar: 346.2m, Waves: 6.6m → Action: Adjust\n",
      "Radar: 241.9m, Waves: 7.5m → Action: Adjust\n",
      "Radar: 710.1m, Waves: 1.6m → Action: Maintain\n"
     ]
    }
   ],
   "source": [
    "import random\n",
    "\n",
    "class Ship:\n",
    "    SAFE_DISTANCE, MAX_WAVE_HEIGHT = 500, 5\n",
    "\n",
    "    def __init__(self, name):\n",
    "        self.name = name\n",
    "\n",
    "    def run(self):\n",
    "        for x in range(5):\n",
    "            radar = random.uniform(100, 1000)\n",
    "            weather = random.uniform(1, 8)\n",
    "\n",
    "\n",
    "            \n",
    "            if radar < self.SAFE_DISTANCE:\n",
    "                action = \"Adjust\"\n",
    "            elif weather > self.MAX_WAVE_HEIGHT:\n",
    "                action = \"Reroute\"\n",
    "            else:\n",
    "                action = \"Maintain\"\n",
    "            print(f\"Radar: {radar:.1f}m, Waves: {weather:.1f}m → Action: {action}\")\n",
    "\n",
    "\n",
    "Ship(\"ASV001\").run()\n"
   ]
  },
  {
   "cell_type": "markdown",
   "metadata": {
    "id": "9Wrcgy3vBlhG"
   },
   "source": [
    "# **Question 1 B**"
   ]
  },
  {
   "cell_type": "markdown",
   "metadata": {},
   "source": [
    "# B) Data Integration and Decision-Making"
   ]
  },
  {
   "cell_type": "markdown",
   "metadata": {},
   "source": [
    "# **Autonomous Ship AI: Data Integration and Decision-Making**  \r\n",
    "\r\n",
    "## **1. Data Sources**  \r\n",
    "The AI system integrates multiple real-time data sources for situational awareness and navigation.  \r\n",
    "\r\n",
    "- **GPS & AIS:** Provide accurate location and track nearby vessels.  \r\n",
    "- **Radar & Sonar:** Detect surface and underwater obstacles in real time.  \r\n",
    "- **Weather Sensors & Forecasts:** Offer current conditions and upcoming hazards.  \r\n",
    "\r\n",
    "---\r\n",
    "\r\n",
    "## **2. Filtering & Prioritization**  \r\n",
    "The AI prioritizes decision-making based on three core principles:  \r\n",
    "\r\n",
    "1. **Safety First 🚨**  \r\n",
    "   - Immediate collision risks detected via radar, sonar, or AIS trigger quick evasive maneuvers.  \r\n",
    "\r\n",
    "2. **Next, Weather ⛈️**  \r\n",
    "   - Forecast data prompts preemptive course adjustments to avoid storms and rough conditions.  \r\n",
    "\r\n",
    "3. **Finally, Efficiency ⛽**  \r\n",
    "   - With safety ensured, the AI refines the route for fuel efficiency and optimal speed.  \r\n"
   ]
  },
  {
   "cell_type": "code",
   "execution_count": 2,
   "metadata": {
    "colab": {
     "base_uri": "https://localhost:8080/"
    },
    "id": "Y1IXtQKw8kl9",
    "outputId": "091f25c6-236d-46b4-8021-7fda1974d633"
   },
   "outputs": [
    {
     "name": "stdout",
     "output_type": "stream",
     "text": [
      "Distance: 300m\n",
      "Weather: Clear\n",
      "Course Error: 5°\n",
      "Action: maneuver\n"
     ]
    }
   ],
   "source": [
    "def navigate(distance, storm, course_error):\n",
    "    # Simple thresholds\n",
    "    SAFE_DISTANCE = 500  # meters\n",
    "    MAX_COURSE_ERROR = 10  # degrees\n",
    "    \n",
    "    # Determine action based on simple conditions\n",
    "    if distance < 200:  # Very close to obstacle\n",
    "        action = \"stop\"\n",
    "    elif distance < SAFE_DISTANCE:  # Near obstacle\n",
    "        action = \"maneuver\"\n",
    "    elif storm:  # Bad weather\n",
    "        action = \"reroute\"\n",
    "    elif course_error > MAX_COURSE_ERROR:  # Off course\n",
    "        action = \"correct\"\n",
    "    else:  # All clear\n",
    "        action = \"maintain\"\n",
    "    \n",
    "    # Print decision info\n",
    "    print(f\"Distance: {distance}m\")\n",
    "    print(f\"Weather: {'Stormy' if storm else 'Clear'}\")\n",
    "    print(f\"Course Error: {course_error}°\")\n",
    "    print(f\"Action: {action}\")\n",
    "    \n",
    "    return action\n",
    "\n",
    "# Example usage\n",
    "action = navigate(\n",
    "    distance=300,\n",
    "    storm=False,\n",
    "    course_error=5\n",
    ")"
   ]
  },
  {
   "cell_type": "markdown",
   "metadata": {
    "id": "ZkKm-4oyBqO3"
   },
   "source": [
    "# **Question 1 C**"
   ]
  },
  {
   "cell_type": "markdown",
   "metadata": {},
   "source": [
    "## C) Autonomous Ship AI: Single vs. Multi-Agent Systems"
   ]
  },
  {
   "cell_type": "markdown",
   "metadata": {},
   "source": [
    "# **Single vs. Multi-Agent Systems in Autonomous Ships**  \r\n",
    "\r\n",
    "## **Should an autonomous ship operate as a single intelligent agent or within a multi-agent system?**  \r\n",
    "\r\n",
    "Autonomous ships can be designed as **single-agent systems** (operating independently) or **multi-agent systems** (collaborating with other ships and authorities). The choice depends on real-world maritime challenges, technological feasibility, and operational efficiency.  \r\n",
    "\r\n",
    "---\r\n",
    "\r\n",
    "## **1. Challenges in Maritime Transport Influencing This Decision**  \r\n",
    "\r\n",
    "### **a) Collision Avoidance & Navigational Safety 🚢⚠️**  \r\n",
    "- Maritime environments are dynamic, with ships, weather changes, and unpredictable obstacles.  \r\n",
    "- A single-agent system can use onboard sensors (GPS, radar, sonar) for decision-making, but lacks **awareness beyond its detection range**.  \r\n",
    "- A **multi-agent system** enhances safety through real-time **ship-to-ship (S2S) communication**, enabling coordinated collision avoidance.  \r\n",
    "\r\n",
    "### **b) Traffic Management & Port Coordination ⚓📡**  \r\n",
    "- Ports and high-traffic zones require constant communication between vessels and harbor authorities.  \r\n",
    "- A **multi-agent system** can facilitate **real-time route adjustments** to optimize docking schedules and prevent congestion.  \r\n",
    "- The provided Python code demonstrates **inter-ship communication**, enabling vessels to share positional data via **UDP broadcasts**.  \r\n",
    "\r\n",
    "### **c) Regulatory Compliance & COLREGs 📜**  \r\n",
    "- The **International Regulations for Preventing Collisions at Sea (COLREGs)** require ships to follow specific maneuvering rules.  \r\n",
    "- A multi-agent system ensures that ships **exchange intent signals** (e.g., turn direction, speed adjustments) for **legally compliant navigation**.  \r\n",
    "\r\n",
    "### **d) Communication Reliability & Cybersecurity 🛡️**  \r\n",
    "- Multi-agent systems rely on stable **wireless networks** (AIS, VHF, satellite).  \r\n",
    "- Potential risks include **data loss, signal interference, and cybersecurity threats** (e.g., spoofing, jamming).  \r\n",
    "- The Python code addresses this by implementing **message validation, timeouts, and retries** to maintain robust ship-to-ship communication.  \r\n",
    "\r\n",
    "---\r\n",
    "\r\n",
    "## **2. The Role of Multi-Agent Communication in Maritime AI**  \r\n",
    "\r\n",
    "The Python implementation showcases a **multi-agent system** with:  \r\n",
    "✅ **Position Updates:** Ships **broadcast their locations** using UDP.  \r\n",
    "✅ **Message Validation:** Ensures **fresh, accurate** data before acting.  \r\n",
    "✅ **Heartbeat Signals:** Ships periodically send status updates to confirm operational health.  \r\n",
    "✅ **Filtering Old Data:** Ships remove outdated messages to prevent incorrect routing decisions.  \r\n",
    "\r\n",
    "This setup enables:  \r\n",
    "- **Collaborative decision-making** for safer navigation.  \r\n",
    "- **Improved situational awareness** beyond the range of onboard sensors.  \r\n",
    "- **Faster responses** to navigational hazards and weather changes.  \r\n",
    "\r\n",
    "---\r\n",
    "\r\n",
    "## **Conclusion: Multi-Agent Systems for Smarter Shipping**  \r\n",
    "\r\n",
    "While a **single-agent system** can operate autonomously, it lacks the ability to collaborate in complex maritime environments. A **multi-agent approach** enhances:  \r\n",
    "✔ **Safety** (via real-time S2S coordination)  \r\n",
    "✔ **Efficiency** (through route optimization and port synchronization)  \r\n",
    "✔ **Regulatory compliance** (by ensuring COLREGs adherence)  \r\n",
    "\r\n",
    "Thus, modern autonomous ships should leverage **multi-agent communication** for a safer and more efficient maritime future. 🌊🚀  \r\n"
   ]
  },
  {
   "cell_type": "code",
   "execution_count": 3,
   "metadata": {
    "colab": {
     "base_uri": "https://localhost:8080/"
    },
    "id": "3Fa8XEVe_jQB",
    "outputId": "1d1a63b7-5d28-47c9-816f-b8774cf3c908"
   },
   "outputs": [
    {
     "name": "stdout",
     "output_type": "stream",
     "text": [
      "Ship A to Ship B: Hello from Ship A!\n",
      "Ship B to Ship A: Hello from Ship B!\n",
      "Ship A knows about: {'B': (37.7694, -122.4862, 10)}\n",
      "Ship B knows about: {'A': (37.7749, -122.4194, 12)}\n"
     ]
    }
   ],
   "source": [
    "class Ship:\n",
    "    def __init__(self, ship_id):\n",
    "        self.ship_id = ship_id\n",
    "        self.latitude = 0\n",
    "        self.longitude = 0\n",
    "        self.speed = 0\n",
    "        self.positions = {}  # Stores known ships' positions\n",
    "    \n",
    "    def update_position(self, lat, lon, speed):\n",
    "        self.latitude, self.longitude, self.speed = lat, lon, speed\n",
    "    \n",
    "    def broadcast_position(self, other_ship):\n",
    "        \"\"\"Send position updates to another ship.\"\"\"\n",
    "        other_ship.receive_data(self.ship_id, self.latitude, self.longitude, self.speed)\n",
    "    \n",
    "    def receive_data(self, ship_id, lat, lon, speed):\n",
    "        \"\"\"Receives position data from another ship.\"\"\"\n",
    "        self.positions[ship_id] = (lat, lon, speed)\n",
    "\n",
    "    def send_message(self, other_ship, message):\n",
    "        \"\"\"Sends a hardcoded message to another ship.\"\"\"\n",
    "        print(f\"Ship {self.ship_id} to Ship {other_ship.ship_id}: {message}\")\n",
    "\n",
    "# Example usage\n",
    "if __name__ == \"__main__\":\n",
    "    ship1 = Ship(\"A\")\n",
    "    ship2 = Ship(\"B\")\n",
    "\n",
    "    # Update positions\n",
    "    ship1.update_position(37.7749, -122.4194, 12)\n",
    "    ship2.update_position(37.7694, -122.4862, 10)\n",
    "\n",
    "    # Ships communicate\n",
    "    ship1.broadcast_position(ship2)\n",
    "    ship2.broadcast_position(ship1)\n",
    "\n",
    "    # Send a message\n",
    "    ship1.send_message(ship2, \"Hello from Ship A!\")\n",
    "    ship2.send_message(ship1, \"Hello from Ship B!\")\n",
    "\n",
    "    # Check received data\n",
    "    print(f\"Ship A knows about: {ship1.positions}\")\n",
    "    print(f\"Ship B knows about: {ship2.positions}\")\n"
   ]
  },
  {
   "cell_type": "markdown",
   "metadata": {
    "id": "Jti5vYTnBYgk"
   },
   "source": [
    "# **Question 2 A**"
   ]
  },
  {
   "cell_type": "markdown",
   "metadata": {},
   "source": [
    "# **2. Environment Perspective**  \n",
    "\n",
    "## **A) Classifying the Oceanic Environment**  \n",
    "\n",
    "### **Classification:**  \n",
    "- **Observability:** Partially observable  \n",
    "  - Limited sensor range  \n",
    "  - Obscured visibility in storms  \n",
    "  - Underwater obstacles  \n",
    "- **Determinism:** Stochastic  \n",
    "  - Unpredictable weather patterns  \n",
    "  - Rogue waves  \n",
    "  - Dynamic marine traffic  \n",
    "- **Dynamism:** Highly dynamic  \n",
    "  - Rapid changes in weather conditions  \n",
    "  - Sudden appearance of obstacles  \n",
    "\n",
    "---\n",
    "\n",
    "### **Challenges:**  \n",
    "- **Partial Observability:**  \n",
    "  - Requires robust sensor fusion to fill gaps in data.  \n",
    "- **Stochasticity:**  \n",
    "  - Demands probabilistic decision-making to handle unpredictable scenarios.  \n",
    "- **Dynamism:**  \n",
    "  - Necessitates real-time adaptation to ensure collision avoidance and safe navigation.  \n"
   ]
  },
  {
   "cell_type": "code",
   "execution_count": 4,
   "metadata": {
    "id": "co4ouq3HBDzB"
   },
   "outputs": [
    {
     "name": "stdout",
     "output_type": "stream",
     "text": [
      "Visibility: 0.8027683887106044, Weather: calm, Obstacle Density: 4\n"
     ]
    }
   ],
   "source": [
    "import random\n",
    "\n",
    "class OceanEnvironment:\n",
    "    def __init__(self):\n",
    "        self.visibility = 1.0  # 0.0 (fog) to 1.0 (clear)\n",
    "        self.weather = \"calm\"  # calm, stormy, hurricane\n",
    "        self.obstacle_density = 0  # 0 (none) to 10 (high)\n",
    "\n",
    "    def simulate_changes(self):\n",
    "        # Randomly update environmental conditions\n",
    "        self.visibility = max(0.1, random.uniform(self.visibility - 0.2, self.visibility + 0.2))\n",
    "        weather_options = [\"calm\", \"stormy\", \"hurricane\"]\n",
    "        if random.random() < 0.3:  # 30% chance of weather change\n",
    "            self.weather = random.choice(weather_options)\n",
    "        self.obstacle_density = min(10, int(random.gauss(5, 2)))  # Gaussian distribution\n",
    "\n",
    "# Example usage:\n",
    "ocean = OceanEnvironment()\n",
    "ocean.simulate_changes()  # Simulate dynamic conditions\n",
    "print(f\"Visibility: {ocean.visibility}, Weather: {ocean.weather}, Obstacle Density: {ocean.obstacle_density}\")\n"
   ]
  },
  {
   "cell_type": "markdown",
   "metadata": {
    "id": "TORkC025Beua"
   },
   "source": [
    "# **Question 2 B**\n",
    "\n"
   ]
  },
  {
   "cell_type": "markdown",
   "metadata": {},
   "source": [
    "## **B) Adapting to Unpredictable Conditions**  \n",
    "\n",
    "### **Strategies:**  \n",
    "- **Reinforcement Learning:**  \n",
    "  - Continuously updates navigation policies based on rewards (e.g., collision avoidance).  \n",
    "- **Probabilistic Models:**  \n",
    "  - Predicts obstacle trajectories using Bayesian networks.  \n",
    "- **Redundancy:**  \n",
    "  - Cross-validates sensor data (e.g., radar + sonar) to confirm threats.  \n",
    "\n",
    "---\n",
    "\n",
    "### **Adaptive Navigation Function:**  \n",
    "The system dynamically adjusts its course by:  \n",
    "1. **Evaluating real-time sensor inputs** to detect obstacles and weather conditions.  \n",
    "2. **Applying probabilistic reasoning** to estimate future risks.  \n",
    "3. **Updating policy actions** using reinforcement learning to optimize safety and efficiency.  \n"
   ]
  },
  {
   "cell_type": "code",
   "execution_count": 5,
   "metadata": {
    "colab": {
     "base_uri": "https://localhost:8080/"
    },
    "id": "dV0-zRhUBD18",
    "outputId": "7e2687f1-87ad-4ce5-a1f3-e95903e633d0"
   },
   "outputs": [
    {
     "name": "stdout",
     "output_type": "stream",
     "text": [
      "Current Course: 90°\n",
      "Weather: stormy\n",
      "New Course: 90°\n"
     ]
    }
   ],
   "source": [
    "def adaptive_navigation(current_course, obstacle_data, weather_condition):\n",
    "    # Simple adjustment based on nearby obstacles\n",
    "    course_adjustment = 0\n",
    "    \n",
    "    # Check each obstacle\n",
    "    for obstacle in obstacle_data:\n",
    "        if obstacle[\"distance\"] < 500:  # If obstacle is within 500 meters\n",
    "            # Turn away from obstacle (left for negative bearing, right for positive)\n",
    "            if obstacle[\"bearing\"] < 0:\n",
    "                course_adjustment -= 5\n",
    "            else:\n",
    "                course_adjustment += 5\n",
    "    \n",
    "    # Adjust more in bad weather\n",
    "    if weather_condition == \"stormy\":\n",
    "        course_adjustment *= 2\n",
    "    \n",
    "    # Calculate new course (keep it between 0 and 360 degrees)\n",
    "    new_course = (current_course + course_adjustment) % 360\n",
    "    \n",
    "    # Print navigation info\n",
    "    print(f\"Current Course: {current_course}°\")\n",
    "    print(f\"Weather: {weather_condition}\")\n",
    "    print(f\"New Course: {new_course}°\")\n",
    "    \n",
    "    return new_course\n",
    "\n",
    "# Example usage\n",
    "new_course = adaptive_navigation(\n",
    "    current_course=90,\n",
    "    obstacle_data=[{\"distance\": 300, \"bearing\": -10}, {\"distance\": 450, \"bearing\": 15}],\n",
    "    weather_condition=\"stormy\"\n",
    ")"
   ]
  },
  {
   "cell_type": "markdown",
   "metadata": {
    "id": "me14Ip-FB24B"
   },
   "source": [
    "# **Question 2 C**"
   ]
  },
  {
   "cell_type": "markdown",
   "metadata": {},
   "source": [
    "## **C) Decision-Making Without Standardized Rules**  \n",
    "\n",
    "### **Challenges & Strategies:**  \n",
    "- **No Lanes:**\n",
    "  - Use **COLREGs rules** (e.g., \"give way to starboard\") to manage right-of-way.  \n",
    "  - Prioritize **safety margins** to avoid close encounters.  \n",
    "\n",
    "\n",
    "- **Congested Routes:**  \n",
    "  - Implement **velocity obstacles algorithm** to predict ship trajectories and avoid collisions.  \n",
    "\n",
    "\n",
    "- **Dynamic Prioritization:**  \n",
    "  - Assign weighted importance based on:  \n",
    "    - **Traffic Density:** 60%  \n",
    "    - **Weather Conditions:** 30%  \n",
    "    - **Fuel Efficiency:** 10%  \n",
    "  - Adjust priorities dynamically based on real-time data.  \n"
   ]
  },
  {
   "cell_type": "code",
   "execution_count": 6,
   "metadata": {
    "colab": {
     "base_uri": "https://localhost:8080/"
    },
    "id": "pCOqn_bZB1z5",
    "outputId": "1b611bce-d94c-4252-f539-bc00b59cce2e"
   },
   "outputs": [
    {
     "name": "stdout",
     "output_type": "stream",
     "text": [
      "Best Route (Clear Weather): Open Water Route\n",
      "Best Route (Stormy Weather): Open Water Route\n"
     ]
    }
   ],
   "source": [
    "class Route:\n",
    "    def __init__(self, id, name, obstacles):\n",
    "        self.id = id\n",
    "        self.name = name\n",
    "        self.obstacles = obstacles\n",
    "\n",
    "class ObstacleMap:\n",
    "    def __init__(self):\n",
    "        self.routes = [\n",
    "            Route(1, \"Coastal Route\", [\"reef\", \"rocks\"]),\n",
    "            Route(2, \"Open Water Route\", [\"none\"]),\n",
    "            Route(3, \"Channel Route\", [\"shallow water\", \"traffic\", \"bridge\"])\n",
    "        ]\n",
    "\n",
    "def safest_route(traffic, weather, map_data):\n",
    "    scores = []\n",
    "    for route in map_data.routes:\n",
    "        traffic_risk = traffic[route.id] * 0.6\n",
    "        weather_risk = 10 if weather == \"stormy\" else 0\n",
    "        obstacle_risk = len(route.obstacles) * 2\n",
    "        total_risk = traffic_risk + weather_risk + obstacle_risk\n",
    "        scores.append((route, total_risk))\n",
    "\n",
    "    best_route = min(scores, key=lambda x: x[1])[0]\n",
    "    return best_route\n",
    "\n",
    "# Example usage\n",
    "map_data = ObstacleMap()\n",
    "traffic = {1: 8.5, 2: 3.2, 3: 6.7}\n",
    "\n",
    "print(\"Best Route (Clear Weather):\", safest_route(traffic, \"clear\", map_data).name)\n",
    "print(\"Best Route (Stormy Weather):\", safest_route(traffic, \"stormy\", map_data).name)\n"
   ]
  }
 ],
 "metadata": {
  "accelerator": "GPU",
  "colab": {
   "gpuType": "T4",
   "provenance": []
  },
  "kernelspec": {
   "display_name": "Python 3 (ipykernel)",
   "language": "python",
   "name": "python3"
  },
  "language_info": {
   "codemirror_mode": {
    "name": "ipython",
    "version": 3
   },
   "file_extension": ".py",
   "mimetype": "text/x-python",
   "name": "python",
   "nbconvert_exporter": "python",
   "pygments_lexer": "ipython3",
   "version": "3.13.2"
  }
 },
 "nbformat": 4,
 "nbformat_minor": 4
}
