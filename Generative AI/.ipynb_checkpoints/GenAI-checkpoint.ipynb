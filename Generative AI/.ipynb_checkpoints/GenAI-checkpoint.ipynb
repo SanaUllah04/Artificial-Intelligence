{
 "cells": [
  {
   "cell_type": "markdown",
   "id": "bcfc3895-8507-4ef7-bd85-5d78c37253ee",
   "metadata": {
    "vscode": {
     "languageId": "plaintext"
    }
   },
   "source": [
    "# Generative AI VS Discriminative AI"
   ]
  },
  {
   "cell_type": "markdown",
   "id": "95621f3c-013b-45e4-89ea-fe798e2381cd",
   "metadata": {},
   "source": [
    "- Discriminative used: Mostly Classification problems (Old and Classic)\n",
    "- Generative Used: Creates and does stuff, more creative (More Modern)."
   ]
  },
  {
   "cell_type": "markdown",
   "id": "0aa58022-348a-4353-a811-103ce1c4a321",
   "metadata": {},
   "source": [
    "## LLMS\n",
    "- LLMS are part of **Foundation Models**\n",
    "- A **Foundation Models** can perform different task of each individual model\n",
    "- These are trained in a **Unsuppervised** and on **Unstructed Data**\n",
    "- Hence:\n",
    "- Generative AI -> **Foundation Models** -> LLM's\n",
    "- A GENAI model can perform any task of the pervious Discriminative AI - by providing some specific domain knowledge hence is called - Tunning\n",
    "- GENAI can be specific to a task !\n",
    "- Promting is a small example of using a GENAI to do a specific task.\n",
    "- "
   ]
  },
  {
   "cell_type": "code",
   "execution_count": null,
   "id": "e0bf1027-9f9a-484a-a004-67dbe8c4d918",
   "metadata": {},
   "outputs": [],
   "source": []
  }
 ],
 "metadata": {
  "kernelspec": {
   "display_name": "Python 3 (ipykernel)",
   "language": "python",
   "name": "python3"
  },
  "language_info": {
   "codemirror_mode": {
    "name": "ipython",
    "version": 3
   },
   "file_extension": ".py",
   "mimetype": "text/x-python",
   "name": "python",
   "nbconvert_exporter": "python",
   "pygments_lexer": "ipython3",
   "version": "3.11.9"
  }
 },
 "nbformat": 4,
 "nbformat_minor": 5
}
