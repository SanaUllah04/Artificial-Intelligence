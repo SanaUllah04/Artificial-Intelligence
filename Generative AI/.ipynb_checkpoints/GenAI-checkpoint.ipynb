{
 "cells": [
  {
   "cell_type": "markdown",
   "id": "bcfc3895-8507-4ef7-bd85-5d78c37253ee",
   "metadata": {
    "vscode": {
     "languageId": "plaintext"
    }
   },
   "source": [
    "# Generative AI VS Discriminative AI"
   ]
  },
  {
   "cell_type": "markdown",
   "id": "95621f3c-013b-45e4-89ea-fe798e2381cd",
   "metadata": {},
   "source": [
    "- Discriminative used: Mostly Classification problems (Old and Classic)\n",
    "- Generative Used: Creates and does stuff, more creative (More Modern)."
   ]
  },
  {
   "cell_type": "markdown",
   "id": "0aa58022-348a-4353-a811-103ce1c4a321",
   "metadata": {},
   "source": [
    "## LLMS\n",
    "- LLMS are part of **Foundation Models**\n",
    "- A **Foundation Models** can perform different task of each individual model\n",
    "- These are trained in a **Unsuppervised** and on **Unstructed Data**\n",
    "- Hence:\n",
    "- Generative AI -> **Foundation Models** -> LLM's\n",
    "- A GENAI model can perform any task of the pervious Discriminative AI - by providing some specific domain knowledge hence is called - Tunning\n",
    "- GENAI can be specific to a task !\n",
    "- Promting is a small example of using a GENAI to do a specific task.\n",
    "- "
   ]
  },
  {
   "cell_type": "markdown",
   "id": "592fa7ee-bb2b-48c3-a4d8-7e9d3647cc17",
   "metadata": {},
   "source": [
    "## NLP"
   ]
  },
  {
   "cell_type": "markdown",
   "id": "979b8828-3caf-4676-aa64-02b96ac639cc",
   "metadata": {},
   "source": [
    "- Understanding the human Language.\n",
    "- We have structured and Unstructured Data.\n",
    "- NLP sits in b/w.\n",
    "- Unstructure -> Structure : called = NLU (Natural Lanugage Understanding)\n",
    "- Structure -> UnStructure : called = NLG (Natural Lanugage Generation)"
   ]
  },
  {
   "cell_type": "markdown",
   "id": "7b377f9c-b4a4-472c-805b-6bd1e1b7b38c",
   "metadata": {},
   "source": [
    "#### NLP - NLU: Usecases."
   ]
  },
  {
   "cell_type": "markdown",
   "id": "c917170b-769b-4689-b1e9-cb79a4d3c34f",
   "metadata": {},
   "source": [
    "- Machine Trnaslation : Context is necessary\n",
    "- ChatBots\n",
    "- Sentiment Analysis\n",
    "- Spam Detection"
   ]
  },
  {
   "cell_type": "markdown",
   "id": "e848b461-961e-4edd-8639-bfbaadc63871",
   "metadata": {},
   "source": [
    "#### STEPS\n",
    "- Input (Unstructred TEXT: Or spoken text)\n",
    "- \n",
    "- Input -> Tokens -> Stemming  OR  Lemmatization -> Part of speeach -> N.E.R\n",
    "- \n",
    "- Stemming: running, run, ran -> convert all to (RUN).\n",
    "- Lemmatization: finding a words origin meaning through a dictornary.\n",
    "- Part of speeach: Where to use or put a adverb/adjective etc.\n",
    "- N.E.R: Named entity recognition: is there any body attached to this name ? if = arizona, then= USA"
   ]
  },
  {
   "cell_type": "code",
   "execution_count": null,
   "id": "682d4489-a5c3-4df3-be2a-8f66c3f1c003",
   "metadata": {},
   "outputs": [],
   "source": []
  }
 ],
 "metadata": {
  "kernelspec": {
   "display_name": "Python 3 (ipykernel)",
   "language": "python",
   "name": "python3"
  },
  "language_info": {
   "codemirror_mode": {
    "name": "ipython",
    "version": 3
   },
   "file_extension": ".py",
   "mimetype": "text/x-python",
   "name": "python",
   "nbconvert_exporter": "python",
   "pygments_lexer": "ipython3",
   "version": "3.11.9"
  }
 },
 "nbformat": 4,
 "nbformat_minor": 5
}
